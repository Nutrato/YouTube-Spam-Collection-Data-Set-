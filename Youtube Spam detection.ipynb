{
 "cells": [
  {
   "cell_type": "code",
   "execution_count": 1,
   "metadata": {},
   "outputs": [],
   "source": [
    "import pandas as pd\n",
    "import nltk\n",
    "from nltk.corpus import stopwords\n",
    "import seaborn as sns\n",
    "import matplotlib.pyplot as plt\n",
    "%matplotlib inline\n",
    "import string\n",
    "import numpy as np"
   ]
  },
  {
   "cell_type": "code",
   "execution_count": 2,
   "metadata": {},
   "outputs": [],
   "source": [
    "Psy_df = pd.read_csv('Youtube01-Psy.csv')"
   ]
  },
  {
   "cell_type": "code",
   "execution_count": 3,
   "metadata": {},
   "outputs": [
    {
     "data": {
      "text/html": [
       "<div>\n",
       "<style scoped>\n",
       "    .dataframe tbody tr th:only-of-type {\n",
       "        vertical-align: middle;\n",
       "    }\n",
       "\n",
       "    .dataframe tbody tr th {\n",
       "        vertical-align: top;\n",
       "    }\n",
       "\n",
       "    .dataframe thead th {\n",
       "        text-align: right;\n",
       "    }\n",
       "</style>\n",
       "<table border=\"1\" class=\"dataframe\">\n",
       "  <thead>\n",
       "    <tr style=\"text-align: right;\">\n",
       "      <th></th>\n",
       "      <th>COMMENT_ID</th>\n",
       "      <th>AUTHOR</th>\n",
       "      <th>DATE</th>\n",
       "      <th>CONTENT</th>\n",
       "      <th>CLASS</th>\n",
       "    </tr>\n",
       "  </thead>\n",
       "  <tbody>\n",
       "    <tr>\n",
       "      <th>0</th>\n",
       "      <td>LZQPQhLyRh80UYxNuaDWhIGQYNQ96IuCg-AYWqNPjpU</td>\n",
       "      <td>Julius NM</td>\n",
       "      <td>2013-11-07T06:20:48</td>\n",
       "      <td>Huh, anyway check out this you[tube] channel: ...</td>\n",
       "      <td>1</td>\n",
       "    </tr>\n",
       "    <tr>\n",
       "      <th>1</th>\n",
       "      <td>LZQPQhLyRh_C2cTtd9MvFRJedxydaVW-2sNg5Diuo4A</td>\n",
       "      <td>adam riyati</td>\n",
       "      <td>2013-11-07T12:37:15</td>\n",
       "      <td>Hey guys check out my new channel and our firs...</td>\n",
       "      <td>1</td>\n",
       "    </tr>\n",
       "    <tr>\n",
       "      <th>2</th>\n",
       "      <td>LZQPQhLyRh9MSZYnf8djyk0gEF9BHDPYrrK-qCczIY8</td>\n",
       "      <td>Evgeny Murashkin</td>\n",
       "      <td>2013-11-08T17:34:21</td>\n",
       "      <td>just for test I have to say murdev.com</td>\n",
       "      <td>1</td>\n",
       "    </tr>\n",
       "    <tr>\n",
       "      <th>3</th>\n",
       "      <td>z13jhp0bxqncu512g22wvzkasxmvvzjaz04</td>\n",
       "      <td>ElNino Melendez</td>\n",
       "      <td>2013-11-09T08:28:43</td>\n",
       "      <td>me shaking my sexy ass on my channel enjoy ^_^ ﻿</td>\n",
       "      <td>1</td>\n",
       "    </tr>\n",
       "    <tr>\n",
       "      <th>4</th>\n",
       "      <td>z13fwbwp1oujthgqj04chlngpvzmtt3r3dw</td>\n",
       "      <td>GsMega</td>\n",
       "      <td>2013-11-10T16:05:38</td>\n",
       "      <td>watch?v=vtaRGgvGtWQ   Check this out .﻿</td>\n",
       "      <td>1</td>\n",
       "    </tr>\n",
       "  </tbody>\n",
       "</table>\n",
       "</div>"
      ],
      "text/plain": [
       "                                    COMMENT_ID            AUTHOR  \\\n",
       "0  LZQPQhLyRh80UYxNuaDWhIGQYNQ96IuCg-AYWqNPjpU         Julius NM   \n",
       "1  LZQPQhLyRh_C2cTtd9MvFRJedxydaVW-2sNg5Diuo4A       adam riyati   \n",
       "2  LZQPQhLyRh9MSZYnf8djyk0gEF9BHDPYrrK-qCczIY8  Evgeny Murashkin   \n",
       "3          z13jhp0bxqncu512g22wvzkasxmvvzjaz04   ElNino Melendez   \n",
       "4          z13fwbwp1oujthgqj04chlngpvzmtt3r3dw            GsMega   \n",
       "\n",
       "                  DATE                                            CONTENT  \\\n",
       "0  2013-11-07T06:20:48  Huh, anyway check out this you[tube] channel: ...   \n",
       "1  2013-11-07T12:37:15  Hey guys check out my new channel and our firs...   \n",
       "2  2013-11-08T17:34:21             just for test I have to say murdev.com   \n",
       "3  2013-11-09T08:28:43   me shaking my sexy ass on my channel enjoy ^_^ ﻿   \n",
       "4  2013-11-10T16:05:38            watch?v=vtaRGgvGtWQ   Check this out .﻿   \n",
       "\n",
       "   CLASS  \n",
       "0      1  \n",
       "1      1  \n",
       "2      1  \n",
       "3      1  \n",
       "4      1  "
      ]
     },
     "execution_count": 3,
     "metadata": {},
     "output_type": "execute_result"
    }
   ],
   "source": [
    "Psy_df.head()"
   ]
  },
  {
   "cell_type": "code",
   "execution_count": 4,
   "metadata": {},
   "outputs": [
    {
     "name": "stdout",
     "output_type": "stream",
     "text": [
      "<class 'pandas.core.frame.DataFrame'>\n",
      "RangeIndex: 350 entries, 0 to 349\n",
      "Data columns (total 5 columns):\n",
      "COMMENT_ID    350 non-null object\n",
      "AUTHOR        350 non-null object\n",
      "DATE          350 non-null object\n",
      "CONTENT       350 non-null object\n",
      "CLASS         350 non-null int64\n",
      "dtypes: int64(1), object(4)\n",
      "memory usage: 8.2+ KB\n"
     ]
    }
   ],
   "source": [
    "Psy_df.info()"
   ]
  },
  {
   "cell_type": "code",
   "execution_count": 5,
   "metadata": {},
   "outputs": [],
   "source": [
    "Psy_df['CONTENT LENGTH'] = Psy_df['CONTENT'].apply(len)"
   ]
  },
  {
   "cell_type": "code",
   "execution_count": 6,
   "metadata": {},
   "outputs": [
    {
     "data": {
      "text/html": [
       "<div>\n",
       "<style scoped>\n",
       "    .dataframe tbody tr th:only-of-type {\n",
       "        vertical-align: middle;\n",
       "    }\n",
       "\n",
       "    .dataframe tbody tr th {\n",
       "        vertical-align: top;\n",
       "    }\n",
       "\n",
       "    .dataframe thead tr th {\n",
       "        text-align: left;\n",
       "    }\n",
       "\n",
       "    .dataframe thead tr:last-of-type th {\n",
       "        text-align: right;\n",
       "    }\n",
       "</style>\n",
       "<table border=\"1\" class=\"dataframe\">\n",
       "  <thead>\n",
       "    <tr>\n",
       "      <th></th>\n",
       "      <th colspan=\"8\" halign=\"left\">CONTENT LENGTH</th>\n",
       "    </tr>\n",
       "    <tr>\n",
       "      <th></th>\n",
       "      <th>count</th>\n",
       "      <th>mean</th>\n",
       "      <th>std</th>\n",
       "      <th>min</th>\n",
       "      <th>25%</th>\n",
       "      <th>50%</th>\n",
       "      <th>75%</th>\n",
       "      <th>max</th>\n",
       "    </tr>\n",
       "    <tr>\n",
       "      <th>CLASS</th>\n",
       "      <th></th>\n",
       "      <th></th>\n",
       "      <th></th>\n",
       "      <th></th>\n",
       "      <th></th>\n",
       "      <th></th>\n",
       "      <th></th>\n",
       "      <th></th>\n",
       "    </tr>\n",
       "  </thead>\n",
       "  <tbody>\n",
       "    <tr>\n",
       "      <th>0</th>\n",
       "      <td>175.0</td>\n",
       "      <td>69.085714</td>\n",
       "      <td>67.765727</td>\n",
       "      <td>4.0</td>\n",
       "      <td>31.0</td>\n",
       "      <td>54.0</td>\n",
       "      <td>91.5</td>\n",
       "      <td>753.0</td>\n",
       "    </tr>\n",
       "    <tr>\n",
       "      <th>1</th>\n",
       "      <td>175.0</td>\n",
       "      <td>104.685714</td>\n",
       "      <td>126.933998</td>\n",
       "      <td>14.0</td>\n",
       "      <td>41.5</td>\n",
       "      <td>64.0</td>\n",
       "      <td>115.5</td>\n",
       "      <td>1078.0</td>\n",
       "    </tr>\n",
       "  </tbody>\n",
       "</table>\n",
       "</div>"
      ],
      "text/plain": [
       "      CONTENT LENGTH                                                         \n",
       "               count        mean         std   min   25%   50%    75%     max\n",
       "CLASS                                                                        \n",
       "0              175.0   69.085714   67.765727   4.0  31.0  54.0   91.5   753.0\n",
       "1              175.0  104.685714  126.933998  14.0  41.5  64.0  115.5  1078.0"
      ]
     },
     "execution_count": 6,
     "metadata": {},
     "output_type": "execute_result"
    }
   ],
   "source": [
    "Psy_df.groupby('CLASS').describe()"
   ]
  },
  {
   "cell_type": "code",
   "execution_count": 7,
   "metadata": {},
   "outputs": [
    {
     "data": {
      "text/plain": [
       "<matplotlib.axes._subplots.AxesSubplot at 0x12bc5f10>"
      ]
     },
     "execution_count": 7,
     "metadata": {},
     "output_type": "execute_result"
    },
    {
     "data": {
      "image/png": "[encoded data removed]",
      "text/plain": [
       "<Figure size 432x288 with 1 Axes>"
      ]
     },
     "metadata": {
      "needs_background": "light"
     },
     "output_type": "display_data"
    }
   ],
   "source": [
    "sns.boxplot(x = 'CLASS', y = 'CONTENT LENGTH', data = Psy_df)"
   ]
  },
  {
   "cell_type": "code",
   "execution_count": 8,
   "metadata": {},
   "outputs": [
    {
     "data": {
      "text/plain": [
       "<matplotlib.axes._subplots.AxesSubplot at 0x12c51a90>"
      ]
     },
     "execution_count": 8,
     "metadata": {},
     "output_type": "execute_result"
    },
    {
     "data": {
      "image/png": "[encoded data removed]",
      "text/plain": [
       "<Figure size 432x288 with 1 Axes>"
      ]
     },
     "metadata": {
      "needs_background": "light"
     },
     "output_type": "display_data"
    }
   ],
   "source": [
    "sns.countplot(y = 'CLASS', data = Psy_df)"
   ]
  },
  {
   "cell_type": "code",
   "execution_count": 9,
   "metadata": {},
   "outputs": [
    {
     "data": {
      "text/plain": [
       "<matplotlib.axes._subplots.AxesSubplot at 0x12c96730>"
      ]
     },
     "execution_count": 9,
     "metadata": {},
     "output_type": "execute_result"
    },
    {
     "data": {
      "image/png": "[encoded data removed]",
      "text/plain": [
       "<Figure size 432x288 with 1 Axes>"
      ]
     },
     "metadata": {
      "needs_background": "light"
     },
     "output_type": "display_data"
    }
   ],
   "source": [
    "sns.distplot(Psy_df['CLASS'], kde = False, bins = 50)"
   ]
  },
  {
   "cell_type": "code",
   "execution_count": 10,
   "metadata": {},
   "outputs": [],
   "source": [
    "def text_process(content):\n",
    "    nopunc = [char for char in content if char not in string.punctuation]\n",
    "    \n",
    "    nopunc = ''.join(nopunc)\n",
    "    \n",
    "    return [word for word in nopunc.split() if word.lower() not in stopwords.words('english')]"
   ]
  },
  {
   "cell_type": "code",
   "execution_count": 11,
   "metadata": {},
   "outputs": [],
   "source": [
    "from sklearn.feature_extraction.text import CountVectorizer"
   ]
  },
  {
   "cell_type": "code",
   "execution_count": 12,
   "metadata": {},
   "outputs": [],
   "source": [
    "cv = CountVectorizer(analyzer= text_process).fit(Psy_df['CONTENT'])"
   ]
  },
  {
   "cell_type": "code",
   "execution_count": 13,
   "metadata": {},
   "outputs": [],
   "source": [
    "bow = cv.transform(Psy_df['CONTENT'])"
   ]
  },
  {
   "cell_type": "code",
   "execution_count": 14,
   "metadata": {},
   "outputs": [],
   "source": [
    "from sklearn.feature_extraction.text import TfidfTransformer"
   ]
  },
  {
   "cell_type": "code",
   "execution_count": 15,
   "metadata": {},
   "outputs": [],
   "source": [
    "tfidf = TfidfTransformer().fit(bow)"
   ]
  },
  {
   "cell_type": "code",
   "execution_count": 16,
   "metadata": {},
   "outputs": [
    {
     "data": {
      "text/plain": [
       "<350x1459 sparse matrix of type '<class 'numpy.float64'>'\n",
       "\twith 2671 stored elements in Compressed Sparse Row format>"
      ]
     },
     "execution_count": 16,
     "metadata": {},
     "output_type": "execute_result"
    }
   ],
   "source": [
    "tfidf.transform(bow)"
   ]
  },
  {
   "cell_type": "code",
   "execution_count": 17,
   "metadata": {},
   "outputs": [],
   "source": [
    "from sklearn.model_selection import train_test_split"
   ]
  },
  {
   "cell_type": "code",
   "execution_count": 94,
   "metadata": {},
   "outputs": [],
   "source": [
    "Psy_X = Psy_df['CONTENT']\n",
    "Psy_y = Psy_df.CLASS"
   ]
  },
  {
   "cell_type": "code",
   "execution_count": 95,
   "metadata": {},
   "outputs": [],
   "source": [
    "Psy_X_train, Psy_X_test, Psy_y_train, Psy_y_test = train_test_split( Psy_X, Psy_y, test_size=0.3, random_state=99)"
   ]
  },
  {
   "cell_type": "code",
   "execution_count": 96,
   "metadata": {},
   "outputs": [],
   "source": [
    "from sklearn.naive_bayes import MultinomialNB"
   ]
  },
  {
   "cell_type": "code",
   "execution_count": 97,
   "metadata": {},
   "outputs": [],
   "source": [
    "from sklearn.pipeline import Pipeline"
   ]
  },
  {
   "cell_type": "code",
   "execution_count": 98,
   "metadata": {},
   "outputs": [],
   "source": [
    "pipeine = Pipeline([\n",
    "    ('bow', CountVectorizer(analyzer = text_process)),\n",
    "    ('tfidf', TfidfTransformer()),\n",
    "    ('Classifier', MultinomialNB()),\n",
    "])"
   ]
  },
  {
   "cell_type": "code",
   "execution_count": 100,
   "metadata": {},
   "outputs": [
    {
     "data": {
      "text/plain": [
       "Pipeline(memory=None,\n",
       "     steps=[('bow', CountVectorizer(analyzer=<function text_process at 0x12CF3978>, binary=False,\n",
       "        decode_error='strict', dtype=<class 'numpy.int64'>,\n",
       "        encoding='utf-8', input='content', lowercase=True, max_df=1.0,\n",
       "        max_features=None, min_df=1, ngram_range=(1, 1), preprocessor=None,\n",
       "...f=False, use_idf=True)), ('Classifier', MultinomialNB(alpha=1.0, class_prior=None, fit_prior=True))])"
      ]
     },
     "execution_count": 100,
     "metadata": {},
     "output_type": "execute_result"
    }
   ],
   "source": [
    "pipeine.fit(Psy_X_train, Psy_y_train)"
   ]
  },
  {
   "cell_type": "code",
   "execution_count": 101,
   "metadata": {},
   "outputs": [],
   "source": [
    "Psy_predictions = pipeine.predict(Psy_X_test)"
   ]
  },
  {
   "cell_type": "code",
   "execution_count": 102,
   "metadata": {},
   "outputs": [],
   "source": [
    "from sklearn.metrics import classification_report, confusion_matrix"
   ]
  },
  {
   "cell_type": "code",
   "execution_count": 103,
   "metadata": {},
   "outputs": [
    {
     "name": "stdout",
     "output_type": "stream",
     "text": [
      "Predictions of Psy DATA\n",
      "Printing Confusion Matrix \n",
      " [[46 10]\n",
      " [ 2 47]]\n",
      "\n",
      " Printing Classification Matrix\n",
      "               precision    recall  f1-score   support\n",
      "\n",
      "           0       0.96      0.82      0.88        56\n",
      "           1       0.82      0.96      0.89        49\n",
      "\n",
      "   micro avg       0.89      0.89      0.89       105\n",
      "   macro avg       0.89      0.89      0.89       105\n",
      "weighted avg       0.90      0.89      0.89       105\n",
      "\n"
     ]
    }
   ],
   "source": [
    "print('Predictions of Psy DATA')\n",
    "print('Printing Confusion Matrix \\n', confusion_matrix(Psy_predictions, Psy_y_test))\n",
    "print('\\n Printing Classification Matrix\\n',classification_report(predictions, Psy_y_test))"
   ]
  },
  {
   "cell_type": "code",
   "execution_count": 104,
   "metadata": {},
   "outputs": [],
   "source": [
    "KP_df = pd.read_csv('Youtube02-KatyPerry.csv')\n",
    "LMFAO_df = pd.read_csv('Youtube03-LMFAO.csv')\n",
    "Eminem_df = pd.read_csv('Youtube04-Eminem.csv')\n",
    "shakira_df = pd.read_csv('Youtube05-Shakira.csv')"
   ]
  },
  {
   "cell_type": "code",
   "execution_count": 329,
   "metadata": {},
   "outputs": [
    {
     "name": "stdout",
     "output_type": "stream",
     "text": [
      "Predictions of Katty Perry DATA\n",
      "Printing Confusion Matrix \n",
      " [[47  4]\n",
      " [ 8 46]]\n",
      "\n",
      " Printing Classification Matrix\n",
      "               precision    recall  f1-score   support\n",
      "\n",
      "           0       0.85      0.92      0.89        51\n",
      "           1       0.92      0.85      0.88        54\n",
      "\n",
      "   micro avg       0.89      0.89      0.89       105\n",
      "   macro avg       0.89      0.89      0.89       105\n",
      "weighted avg       0.89      0.89      0.89       105\n",
      "\n"
     ]
    }
   ],
   "source": [
    "KP_X = KP_df['CONTENT']\n",
    "KP_y = KP_df['CLASS']\n",
    "KP_X_train, KP_X_test, KP_y_train, KP_y_test = train_test_split( KP_X, KP_y, test_size=0.3, random_state=9)\n",
    "pipeine.fit(KP_X_train, KP_y_train)\n",
    "KP_predictions = pipeine.predict(KP_X_test)\n",
    "print('Predictions of Katty Perry DATA')\n",
    "print('Printing Confusion Matrix \\n', confusion_matrix(KP_predictions, KP_y_test))\n",
    "print('\\n Printing Classification Matrix\\n',classification_report(KP_predictions, KP_y_test))"
   ]
  },
  {
   "cell_type": "code",
   "execution_count": 106,
   "metadata": {},
   "outputs": [
    {
     "name": "stdout",
     "output_type": "stream",
     "text": [
      "Predictions of LMFAO DATA\n",
      "Printing Confusion Matrix \n",
      " [[44  4]\n",
      " [15 69]]\n",
      "\n",
      " Printing Classification Matrix\n",
      "               precision    recall  f1-score   support\n",
      "\n",
      "           0       0.75      0.92      0.82        48\n",
      "           1       0.95      0.82      0.88        84\n",
      "\n",
      "   micro avg       0.86      0.86      0.86       132\n",
      "   macro avg       0.85      0.87      0.85       132\n",
      "weighted avg       0.87      0.86      0.86       132\n",
      "\n"
     ]
    }
   ],
   "source": [
    "LMFAO_X = LMFAO_df['CONTENT']\n",
    "LMFAO_y = LMFAO_df['CLASS']\n",
    "LMFAO_X_train, LMFAO_X_test, LMFAO_y_train, LMFAO_y_test = train_test_split( LMFAO_X, LMFAO_y, test_size=0.3, random_state=1)\n",
    "pipeine.fit(LMFAO_X_train, LMFAO_y_train)\n",
    "LMFAO_predictions = pipeine.predict(LMFAO_X_test)\n",
    "print('Predictions of LMFAO DATA')\n",
    "print('Printing Confusion Matrix \\n', confusion_matrix(LMFAO_predictions, LMFAO_y_test))\n",
    "print('\\n Printing Classification Matrix\\n',classification_report(LMFAO_predictions, LMFAO_y_test))"
   ]
  },
  {
   "cell_type": "code",
   "execution_count": 107,
   "metadata": {},
   "outputs": [
    {
     "name": "stdout",
     "output_type": "stream",
     "text": [
      "Predictions of Emienem DATA\n",
      "Printing Confusion Matrix \n",
      " [[38  2]\n",
      " [17 78]]\n",
      "\n",
      " Printing Classification Matrix\n",
      "               precision    recall  f1-score   support\n",
      "\n",
      "           0       0.69      0.95      0.80        40\n",
      "           1       0.97      0.82      0.89        95\n",
      "\n",
      "   micro avg       0.86      0.86      0.86       135\n",
      "   macro avg       0.83      0.89      0.85       135\n",
      "weighted avg       0.89      0.86      0.86       135\n",
      "\n"
     ]
    }
   ],
   "source": [
    "Eminem_X = Eminem_df['CONTENT']\n",
    "Eminem_y = Eminem_df['CLASS']\n",
    "Eminem_X_train, Eminem_X_test, Eminem_y_train, Eminem_y_test = train_test_split( Eminem_X, Eminem_y, test_size=0.3, random_state=99)\n",
    "pipeine.fit(Eminem_X_train, Eminem_y_train)\n",
    "Eminem_predictions = pipeine.predict(Eminem_X_test)\n",
    "print('Predictions of Emienem DATA')\n",
    "print('Printing Confusion Matrix \\n', confusion_matrix(Eminem_predictions, Eminem_y_test))\n",
    "print('\\n Printing Classification Matrix\\n',classification_report(Eminem_predictions, Eminem_y_test))"
   ]
  },
  {
   "cell_type": "code",
   "execution_count": 108,
   "metadata": {},
   "outputs": [
    {
     "name": "stdout",
     "output_type": "stream",
     "text": [
      "Predictions of Shakira DATA\n",
      "Printing Confusion Matrix \n",
      " [[62  9]\n",
      " [ 2 38]]\n",
      "\n",
      " Printing Classification Matrix\n",
      "               precision    recall  f1-score   support\n",
      "\n",
      "           0       0.97      0.87      0.92        71\n",
      "           1       0.81      0.95      0.87        40\n",
      "\n",
      "   micro avg       0.90      0.90      0.90       111\n",
      "   macro avg       0.89      0.91      0.90       111\n",
      "weighted avg       0.91      0.90      0.90       111\n",
      "\n"
     ]
    }
   ],
   "source": [
    "shakira_X = shakira_df['CONTENT']\n",
    "shakira_y = shakira_df['CLASS']\n",
    "shakira_X_train, shakira_X_test, shakira_y_train, shakira_y_test = train_test_split( shakira_X, shakira_y, test_size=0.3, random_state=99)\n",
    "pipeine.fit(shakira_X_train, shakira_y_train)\n",
    "shakira_predictions = pipeine.predict(shakira_X_test)\n",
    "print('Predictions of Shakira DATA')\n",
    "print('Printing Confusion Matrix \\n', confusion_matrix(shakira_predictions, shakira_y_test))\n",
    "print('\\n Printing Classification Matrix\\n',classification_report(shakira_predictions, shakira_y_test))"
   ]
  },
  {
   "cell_type": "code",
   "execution_count": 85,
   "metadata": {},
   "outputs": [],
   "source": [
    "from sklearn.metrics import mean_absolute_error, mean_squared_error"
   ]
  },
  {
   "cell_type": "code",
   "execution_count": 109,
   "metadata": {},
   "outputs": [],
   "source": [
    "KP_mse = mean_squared_error(KP_predictions, KP_y_test)\n",
    "Eminem_mse = mean_squared_error(Eminem_predictions, Eminem_y_test)\n",
    "shakira_mse = mean_squared_error(shakira_predictions, shakira_y_test)\n",
    "LMFAO_mse = mean_squared_error(LMFAO_predictions, LMFAO_y_test)\n",
    "Psy_mse = mean_squared_error(Psy_predictions, Psy_y_test)"
   ]
  },
  {
   "cell_type": "code",
   "execution_count": 143,
   "metadata": {},
   "outputs": [],
   "source": [
    "acc_list = [KP_mse, Eminem_mse, shakira_mse, LMFAO_mse, Psy_mse]\n",
    "artist_name= ['Katty Perry', 'Eminem', 'Shakira', 'LMFAO', 'Psy']"
   ]
  },
  {
   "cell_type": "code",
   "execution_count": 168,
   "metadata": {},
   "outputs": [],
   "source": [
    "acc_per = [100-num*100 for num in acc_list]"
   ]
  },
  {
   "cell_type": "code",
   "execution_count": 301,
   "metadata": {},
   "outputs": [],
   "source": [
    "acc_df = pd.DataFrame({'Name of the Artist': artist_name,\n",
    "                      'Acuraacy of predection': acc_per} )"
   ]
  },
  {
   "cell_type": "code",
   "execution_count": 331,
   "metadata": {},
   "outputs": [
    {
     "data": {
      "text/html": [
       "<div>\n",
       "<style scoped>\n",
       "    .dataframe tbody tr th:only-of-type {\n",
       "        vertical-align: middle;\n",
       "    }\n",
       "\n",
       "    .dataframe tbody tr th {\n",
       "        vertical-align: top;\n",
       "    }\n",
       "\n",
       "    .dataframe thead th {\n",
       "        text-align: right;\n",
       "    }\n",
       "</style>\n",
       "<table border=\"1\" class=\"dataframe\">\n",
       "  <thead>\n",
       "    <tr style=\"text-align: right;\">\n",
       "      <th></th>\n",
       "      <th>Name of the Artist</th>\n",
       "      <th>Acuraacy of predection</th>\n",
       "    </tr>\n",
       "  </thead>\n",
       "  <tbody>\n",
       "    <tr>\n",
       "      <th>0</th>\n",
       "      <td>Katty Perry</td>\n",
       "      <td>82.857143</td>\n",
       "    </tr>\n",
       "    <tr>\n",
       "      <th>1</th>\n",
       "      <td>Eminem</td>\n",
       "      <td>85.925926</td>\n",
       "    </tr>\n",
       "    <tr>\n",
       "      <th>2</th>\n",
       "      <td>Shakira</td>\n",
       "      <td>90.090090</td>\n",
       "    </tr>\n",
       "    <tr>\n",
       "      <th>3</th>\n",
       "      <td>LMFAO</td>\n",
       "      <td>85.606061</td>\n",
       "    </tr>\n",
       "    <tr>\n",
       "      <th>4</th>\n",
       "      <td>Psy</td>\n",
       "      <td>88.571429</td>\n",
       "    </tr>\n",
       "  </tbody>\n",
       "</table>\n",
       "</div>"
      ],
      "text/plain": [
       "  Name of the Artist  Acuraacy of predection\n",
       "0        Katty Perry               82.857143\n",
       "1             Eminem               85.925926\n",
       "2            Shakira               90.090090\n",
       "3              LMFAO               85.606061\n",
       "4                Psy               88.571429"
      ]
     },
     "execution_count": 331,
     "metadata": {},
     "output_type": "execute_result"
    }
   ],
   "source": [
    "acc_df.head()"
   ]
  },
  {
   "cell_type": "code",
   "execution_count": 330,
   "metadata": {},
   "outputs": [
    {
     "data": {
      "text/plain": [
       "<matplotlib.axes._subplots.AxesSubplot at 0x1cb254b0>"
      ]
     },
     "execution_count": 330,
     "metadata": {},
     "output_type": "execute_result"
    },
    {
     "data": {
      "image/png": "[encoded data removed]",
      "text/plain": [
       "<Figure size 432x288 with 1 Axes>"
      ]
     },
     "metadata": {
      "needs_background": "light"
     },
     "output_type": "display_data"
    }
   ],
   "source": [
    "sns.barplot(y = 'Name of the Artist', x = 'Acuraacy of predection', data=acc_df, palette= 'plasma', saturation=0.75)"
   ]
  },
  {
   "cell_type": "code",
   "execution_count": null,
   "metadata": {},
   "outputs": [],
   "source": []
  }
 ],
 "metadata": {
  "kernelspec": {
   "display_name": "Python 3",
   "language": "python",
   "name": "python3"
  },
  "language_info": {
   "codemirror_mode": {
    "name": "ipython",
    "version": 3
   },
   "file_extension": ".py",
   "mimetype": "text/x-python",
   "name": "python",
   "nbconvert_exporter": "python",
   "pygments_lexer": "ipython3",
   "version": "3.7.0"
  }
 },
 "nbformat": 4,
 "nbformat_minor": 2
}
